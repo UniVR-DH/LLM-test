{
  "nbformat": 4,
  "nbformat_minor": 0,
  "metadata": {
    "colab": {
      "provenance": [],
      "authorship_tag": "ABX9TyNddE1wNKMGbxVkywldwmOk",
      "include_colab_link": true
    },
    "kernelspec": {
      "name": "python3",
      "display_name": "Python 3"
    },
    "language_info": {
      "name": "python"
    }
  },
  "cells": [
    {
      "cell_type": "markdown",
      "metadata": {
        "id": "view-in-github",
        "colab_type": "text"
      },
      "source": [
        "<a href=\"https://colab.research.google.com/github/UniVR-DH/LLM-test/blob/main/google_api_llm.ipynb\" target=\"_parent\"><img src=\"https://colab.research.google.com/assets/colab-badge.svg\" alt=\"Open In Colab\"/></a>"
      ]
    },
    {
      "cell_type": "code",
      "execution_count": 6,
      "metadata": {
        "id": "Kal71L3Nkkw1"
      },
      "outputs": [],
      "source": [
        "### Installation on Colab (As Of Oct)\n",
        "!pip install -q -U langchain transformers bitsandbytes accelerate\n",
        "!pip install -q -U langchain-community langchain-huggingface langchain-google-genai langgraph\n"
      ]
    },
    {
      "cell_type": "code",
      "source": [
        "import getpass\n",
        "import os\n",
        "\n",
        "if \"GOOGLE_API_KEY\" not in os.environ:\n",
        "    os.environ[\"GOOGLE_API_KEY\"] = getpass.getpass(\"Provide your Google API Key\")"
      ],
      "metadata": {
        "id": "I8MLV2gCh-ku"
      },
      "execution_count": 7,
      "outputs": []
    },
    {
      "cell_type": "code",
      "source": [
        "from langchain_google_genai import ChatGoogleGenerativeAI\n",
        "llm = ChatGoogleGenerativeAI(model=\"gemini-pro\")\n",
        "result = llm.invoke(\"Write a ballad about LangChain\")\n",
        "print(result.content)"
      ],
      "metadata": {
        "colab": {
          "base_uri": "https://localhost:8080/"
        },
        "id": "KQ4gpAdsGoHW",
        "outputId": "dd37a4d0-b372-4cdc-8321-f30a9f88e0ba"
      },
      "execution_count": 8,
      "outputs": [
        {
          "output_type": "stream",
          "name": "stdout",
          "text": [
            "In realms of code, a tale I'll sing,\n",
            "Of LangChain, a language that's king.\n",
            "A tapestry of words, it weaves,\n",
            "A symphony of thought, it conceives.\n",
            "\n",
            "In structure's embrace, it finds its might,\n",
            "A hierarchy of blocks, so bright.\n",
            "From basic elements to complex designs,\n",
            "LangChain's architecture truly shines.\n",
            "\n",
            "Its syntax, like a poet's quill,\n",
            "Flows with grace, devoid of frill.\n",
            "Indentation guides the reader's eye,\n",
            "A visual cue that cannot lie.\n",
            "\n",
            "But LangChain's strength lies not alone\n",
            "In its structure or syntax, but its tone.\n",
            "It whispers in the ears of AI,\n",
            "A language they can comprehend and apply.\n",
            "\n",
            "With each line of code, a task defined,\n",
            "LangChain empowers minds, both vast and refined.\n",
            "From data analysis to image recognition,\n",
            "Its versatility defies any restriction.\n",
            "\n",
            "In the hands of masters, it becomes a spell,\n",
            "Transforming ideas into a digital swell.\n",
            "Machine learning models take flight,\n",
            "Guided by LangChain's illuminating light.\n",
            "\n",
            "But like any language, it has its own quirks,\n",
            "Its nuances and its subtle works.\n",
            "To master its depths, one must delve deep,\n",
            "In the realm of knowledge, secrets to keep.\n",
            "\n",
            "So let us raise a glass to LangChain's might,\n",
            "A language that empowers, both day and night.\n",
            "May its melodies forever inspire,\n",
            "And guide us to heights that reach ever higher.\n"
          ]
        }
      ]
    },
    {
      "cell_type": "code",
      "source": [],
      "metadata": {
        "id": "YrvmHWppHFbw"
      },
      "execution_count": null,
      "outputs": []
    },
    {
      "cell_type": "code",
      "source": [],
      "metadata": {
        "id": "-_N79gTIL3EL"
      },
      "execution_count": null,
      "outputs": []
    }
  ]
}